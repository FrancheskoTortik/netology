{
 "cells": [
  {
   "cell_type": "code",
   "execution_count": 1,
   "metadata": {},
   "outputs": [],
   "source": [
    "# перечень всех документов\n",
    "documents = [\n",
    " {'type': 'passport', 'number': '2207 876234', 'name': 'Василий Гупкин'},\n",
    " {'type': 'invoice', 'number': '11-2', 'name': 'Геннадий Покемонов'},\n",
    " {'type': 'insurance', 'number': '10006', 'name': 'Аристарх Павлов'}\n",
    "]\n",
    "# перечень полок, на которых хранятся документы (если документ есть в documents, то он обязательно должен быть и в directories)\n",
    "directories = {\n",
    " '1': ['2207 876234', '11-2'],\n",
    " '2': ['10006'],\n",
    " '3': []\n",
    "}"
   ]
  },
  {
   "cell_type": "code",
   "execution_count": 3,
   "metadata": {},
   "outputs": [
    {
     "name": "stdout",
     "output_type": "stream",
     "text": [
      "Владелец документа: Аристарх Павлов\n"
     ]
    }
   ],
   "source": [
    "# comand = str(input(\"Введите команду:\"))\n",
    "def search_value(key,atr , arr_search ):\n",
    "  if arr_search == documents:\n",
    "      for doc in arr_search:\n",
    "        if key in doc.values():\n",
    "          return doc[atr]\n",
    "  if arr_search == directories:\n",
    "    for dir, doc in arr_search.items():\n",
    "      if key in doc:\n",
    "        return dir\n",
    "        \n",
    "def doc_owner(arg):\n",
    "  if search_value(arg,'name',  arr_search = documents) is not None:\n",
    "    print(f\"Владелец документа: {search_value(arg, 'name', documents)}\")\n",
    "  else:\n",
    "    print(\"Документ не найден в базе\")\n",
    "\n",
    "def doc_dir(arg):\n",
    "  if search_value(arg, 'name',  directories) is not None:\n",
    "    print(f\"Документ хранится на полке: {search_value(arg, 'name',  directories)}\")\n",
    "  else:\n",
    "    print(\"Документ не найден в базе\")  \n",
    "\n",
    "def doc_all_info():\n",
    "  for dir, docs in directories.items():\n",
    "    for doc in docs:\n",
    "      print(f\"№: {doc}, тип: {search_value(doc, 'type', documents)}, владелец: {search_value(doc, 'name', documents)}, полка хранения: {dir}\")\n",
    "\n",
    "def dir_add():\n",
    "  polk = str(input(\"Введите номер полки:\"))\n",
    "  if polk not in directories.keys():\n",
    "    directories[polk] = []\n",
    "    print(f\"Полка добавлена. Текущий перечень полок: {', '.join(directories.keys())}.\")\n",
    "  else:\n",
    "    print(f\"Такая полка уже существует. Текущий перечень полок: {', '.join(directories.keys())}.\")\n",
    "def dir_del():\n",
    "  polk = str(input(\"Введите номер полки:\"))\n",
    "  if polk in directories.keys():\n",
    "    if directories[polk] == []:\n",
    "      del directories[polk]\n",
    "      print(f\"Полка удалена. Текущий перечень полок: {', '.join(directories.keys())}.\")\n",
    "    else:\n",
    "      print(f\"На полке есть документа, удалите их перед удалением полки. Текущий перечень полок: {', '.join(directories.keys())}.\")\n",
    "  else:\n",
    "    print(f\"Такой полки не существует. Текущий перечень полок: {', '.join(directories.keys())}.\")\n",
    "\n",
    "\n",
    "# Главная функция\n",
    "\n",
    "def main_func_v2():\n",
    "  while True:\n",
    "    comand = input(\"Введите команду: \")\n",
    "    if comand == 'p':\n",
    "      doc_chek = input(\"Введите номер документа: \")\n",
    "      doc_owner(doc_chek)\n",
    "    # Узнаем на какой полке он хранится\n",
    "    elif comand == 's':\n",
    "      doc_chek = input(\"Введите номер документа: \")\n",
    "      doc_dir(doc_chek)\n",
    "    # Узнаем полную информацию по всем документам\n",
    "    elif comand == 'l':\n",
    "      doc_all_info()\n",
    "    elif comand == 'ads':\n",
    "      dir_add()\n",
    "    elif comand == 'ds':\n",
    "      dir_del()\n",
    "    elif comand == 'q':\n",
    "      break"
   ]
  },
  {
   "cell_type": "code",
   "execution_count": null,
   "metadata": {},
   "outputs": [],
   "source": []
  }
 ],
 "metadata": {
  "interpreter": {
   "hash": "b3ba2566441a7c06988d0923437866b63cedc61552a5af99d1f4fb67d367b25f"
  },
  "kernelspec": {
   "display_name": "Python 3.9.7 ('base')",
   "language": "python",
   "name": "python3"
  },
  "language_info": {
   "codemirror_mode": {
    "name": "ipython",
    "version": 3
   },
   "file_extension": ".py",
   "mimetype": "text/x-python",
   "name": "python",
   "nbconvert_exporter": "python",
   "pygments_lexer": "ipython3",
   "version": "3.9.7"
  },
  "orig_nbformat": 4
 },
 "nbformat": 4,
 "nbformat_minor": 2
}

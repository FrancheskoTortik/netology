{
 "cells": [
  {
   "cell_type": "code",
   "execution_count": 1,
   "metadata": {},
   "outputs": [],
   "source": [
    "import re"
   ]
  },
  {
   "cell_type": "code",
   "execution_count": 14,
   "metadata": {},
   "outputs": [
    {
     "name": "stdout",
     "output_type": "stream",
     "text": [
      "Номер A222BC валиден. Регион: 16\n"
     ]
    }
   ],
   "source": [
    "# Задание 1\n",
    "def number_chek(str_num):\n",
    "    if len(re.findall(\"([\\w]{1}[\\d]{3}[\\w]{2})([\\d]{2,3})\", str_num)) > 0 :\n",
    "        number = re.findall(\"([\\w]{1}[\\d]{3}[\\w]{2})([\\d]{2,3})\", str_num)[0][0]\n",
    "        region = re.findall(\"([\\w]{1}[\\d]{3}[\\w]{2})([\\d]{2,3})\", str_num)[0][1]\n",
    "        print(f\"Номер {number.upper()} валиден. Регион: {region}\")\n",
    "\n",
    "    else:\n",
    "        print(\"Номер не валиден\")\n",
    "\n",
    "\n",
    "number_chek('A222bc16')"
   ]
  },
  {
   "cell_type": "code",
   "execution_count": 19,
   "metadata": {},
   "outputs": [
    {
     "data": {
      "text/plain": [
       "'Напишите функцию которая будет удалять все последовательные повторы слов из заданной строки при помощи регулярных выражений'"
      ]
     },
     "execution_count": 19,
     "metadata": {},
     "output_type": "execute_result"
    }
   ],
   "source": [
    "# Задание 2\n",
    "s = \"Напишите функцию функцию, которая будет будет будет будет удалять все все все все последовательные повторы слов из из из из заданной строки строки при помощи регулярных выражений\"\n",
    "def text_clean(str_text):\n",
    "    return re.sub(r'\\b([^\\W\\d_]+)(\\s+\\1)+\\b', r'\\1', re.sub(r'\\W+', ' ', str_text).strip(), flags=re.I)\n",
    "text_clean(s)\n"
   ]
  },
  {
   "cell_type": "code",
   "execution_count": 31,
   "metadata": {},
   "outputs": [
    {
     "data": {
      "text/plain": [
       "'ИТS'"
      ]
     },
     "execution_count": 31,
     "metadata": {},
     "output_type": "execute_result"
    }
   ],
   "source": [
    "# Задание 3\n",
    "def acronim(str_prase):\n",
    "    arr = [x.upper() for x in re.findall( \"([\\w])[\\w]+\"  ,str_prase)]\n",
    "    return ''.join(arr) \n",
    "\n",
    "acronim('Информационные технологии')\n"
   ]
  },
  {
   "cell_type": "code",
   "execution_count": 32,
   "metadata": {},
   "outputs": [],
   "source": [
    "# Задание 4\n",
    "emails = ['test@gmail.com', 'xyz@test.in', 'test@ya.ru', 'xyz@mail.ru', 'xyz@ya.ru' , 'xyz@gmail.com']\n",
    "\n",
    "def emails_count(arr):\n",
    "    arr = [re.findall('@(\\w+\\.\\w+)', x)[0] for x in emails]\n",
    "    arr_uniq = set(arr)\n",
    "    for x in arr_uniq:\n",
    "        print(f\"{x}: {arr.count(x)}\")\n",
    "\n",
    "\n",
    "emails_count(emails)\n",
    "\n"
   ]
  },
  {
   "cell_type": "code",
   "execution_count": null,
   "metadata": {},
   "outputs": [],
   "source": []
  }
 ],
 "metadata": {
  "interpreter": {
   "hash": "b3ba2566441a7c06988d0923437866b63cedc61552a5af99d1f4fb67d367b25f"
  },
  "kernelspec": {
   "display_name": "Python 3.9.7 ('base')",
   "language": "python",
   "name": "python3"
  },
  "language_info": {
   "codemirror_mode": {
    "name": "ipython",
    "version": 3
   },
   "file_extension": ".py",
   "mimetype": "text/x-python",
   "name": "python",
   "nbconvert_exporter": "python",
   "pygments_lexer": "ipython3",
   "version": "3.9.7"
  },
  "orig_nbformat": 4
 },
 "nbformat": 4,
 "nbformat_minor": 2
}

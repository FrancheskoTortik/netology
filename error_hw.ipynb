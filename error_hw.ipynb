{
 "cells": [
  {
   "cell_type": "code",
   "execution_count": 25,
   "metadata": {},
   "outputs": [],
   "source": [
    "from datetime import datetime as dt\n",
    "from datetime import timedelta\n",
    "import pandas as pd"
   ]
  },
  {
   "cell_type": "code",
   "execution_count": 12,
   "metadata": {},
   "outputs": [
    {
     "data": {
      "text/plain": [
       "datetime.datetime(1977, 8, 18, 0, 0)"
      ]
     },
     "execution_count": 12,
     "metadata": {},
     "output_type": "execute_result"
    }
   ],
   "source": [
    "# Задание 1\n",
    "def str_to_date(str_dt):\n",
    "    if str_dt.split('-')[0].strip() == 'The Moscow Times':\n",
    "        res = str_dt.split('-')[1].strip()\n",
    "        str_dt = res.split(',')[1].strip() + ', ' + res.split(',')[2].strip()\n",
    "        return dt.strptime(str_dt, \"%B %d, %Y\")\n",
    "\n",
    "    if str_dt.split('-')[0].strip() == 'The Guardian':\n",
    "        res = str_dt.split('-')[1].strip().split(',')[-1].strip()\n",
    "        return dt.strptime(res, \"%d.%m.%y\")\n",
    "\n",
    "    if str_dt.split('-')[0].strip() == 'Daily News':\n",
    "        res = str_dt.split('-')[1].strip().split(',')[-1].strip()\n",
    "        return dt.strptime(res, \"%d %B %Y\")\n",
    "\n",
    "str_to_date(\"The Moscow Times - Wednesday, October 2, 2002\")\n",
    "str_to_date(\"The Guardian - Friday, 11.10.13\")\n",
    "str_to_date(\"Daily News - Thursday, 18 August 1977\")\n",
    "\n"
   ]
  },
  {
   "cell_type": "code",
   "execution_count": 13,
   "metadata": {},
   "outputs": [
    {
     "name": "stdout",
     "output_type": "stream",
     "text": [
      "True\n",
      "False\n",
      "False\n"
     ]
    }
   ],
   "source": [
    "# Задание 2\n",
    "stream = ['2018-04-02', '2018-02-29', '2018-19-02']\n",
    "\n",
    "def chek_date_correct(date_str):\n",
    "    try:\n",
    "        dt.strptime(date_str, \"%Y-%m-%d\")\n",
    "        return True\n",
    "    except:\n",
    "        return False\n",
    "\n",
    "for dtstr in stream:\n",
    "    print(chek_date_correct(dtstr))\n"
   ]
  },
  {
   "cell_type": "code",
   "execution_count": 52,
   "metadata": {},
   "outputs": [
    {
     "data": {
      "text/plain": [
       "(['2022-01-05', '2022-01-06', '2022-01-07', '2022-01-08'],\n",
       " ['2022-01-05', '2022-01-06', '2022-01-07', '2022-01-08'],\n",
       " [])"
      ]
     },
     "execution_count": 52,
     "metadata": {},
     "output_type": "execute_result"
    }
   ],
   "source": [
    "# Задание 3\n",
    "def date_range(start_date , end_date):\n",
    "    rslt_arr = []\n",
    "    try:\n",
    "        start_date = dt.strptime(str(start_date).split(' ')[0].strip(), '%Y-%m-%d' )\n",
    "        end_date = dt.strptime(str(end_date).split(' ')[0].strip(), '%Y-%m-%d' )\n",
    "        if start_date < end_date:\n",
    "            rst = end_date - start_date\n",
    "            for x in range(int(rst.total_seconds() // 86400)+1):\n",
    "                rslt_arr.append(dt.strftime(start_date + timedelta(x), '%Y-%m-%d'))\n",
    "            return rslt_arr\n",
    "        elif start_date == end_date:\n",
    "            return [dt.strftime(start_date, '%Y-%m-%d')]\n",
    "        else:\n",
    "            return []\n",
    "    except:\n",
    "        return []\n",
    "\n",
    "\n",
    "date_range(pd.to_datetime('2022-01-05'),pd.to_datetime('2022-01-08') ) , date_range('2022-01-05','2022-01-08') ,date_range('2022-01-05','2022-021-08')  "
   ]
  },
  {
   "cell_type": "code",
   "execution_count": null,
   "metadata": {},
   "outputs": [],
   "source": []
  }
 ],
 "metadata": {
  "interpreter": {
   "hash": "b3ba2566441a7c06988d0923437866b63cedc61552a5af99d1f4fb67d367b25f"
  },
  "kernelspec": {
   "display_name": "Python 3.9.7 ('base')",
   "language": "python",
   "name": "python3"
  },
  "language_info": {
   "codemirror_mode": {
    "name": "ipython",
    "version": 3
   },
   "file_extension": ".py",
   "mimetype": "text/x-python",
   "name": "python",
   "nbconvert_exporter": "python",
   "pygments_lexer": "ipython3",
   "version": "3.9.7"
  },
  "orig_nbformat": 4
 },
 "nbformat": 4,
 "nbformat_minor": 2
}

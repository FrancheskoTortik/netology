{
 "cells": [
  {
   "cell_type": "code",
   "execution_count": 17,
   "metadata": {},
   "outputs": [],
   "source": [
    "from pyspark.sql import SparkSession\n",
    "from pyspark.sql import functions as F, Window as W\n",
    "from pyspark.sql.types import IntegerType"
   ]
  },
  {
   "cell_type": "code",
   "execution_count": 2,
   "metadata": {},
   "outputs": [
    {
     "name": "stderr",
     "output_type": "stream",
     "text": [
      "22/08/10 10:30:53 WARN Utils: Your hostname, francesco-TravelMate-P238-M resolves to a loopback address: 127.0.1.1; using 192.168.1.129 instead (on interface wlp3s0)\n",
      "22/08/10 10:30:53 WARN Utils: Set SPARK_LOCAL_IP if you need to bind to another address\n",
      "WARNING: An illegal reflective access operation has occurred\n",
      "WARNING: Illegal reflective access by org.apache.spark.unsafe.Platform (file:/opt/spark/jars/spark-unsafe_2.12-3.0.3.jar) to constructor java.nio.DirectByteBuffer(long,int)\n",
      "WARNING: Please consider reporting this to the maintainers of org.apache.spark.unsafe.Platform\n",
      "WARNING: Use --illegal-access=warn to enable warnings of further illegal reflective access operations\n",
      "WARNING: All illegal access operations will be denied in a future release\n",
      "22/08/10 10:30:55 WARN NativeCodeLoader: Unable to load native-hadoop library for your platform... using builtin-java classes where applicable\n",
      "Using Spark's default log4j profile: org/apache/spark/log4j-defaults.properties\n",
      "Setting default log level to \"WARN\".\n",
      "To adjust logging level use sc.setLogLevel(newLevel). For SparkR, use setLogLevel(newLevel).\n"
     ]
    }
   ],
   "source": [
    "spark = SparkSession.builder.getOrCreate()"
   ]
  },
  {
   "cell_type": "code",
   "execution_count": 3,
   "metadata": {},
   "outputs": [
    {
     "name": "stderr",
     "output_type": "stream",
     "text": [
      "22/08/10 10:31:07 WARN package: Truncated the string representation of a plan since it was too large. This behavior can be adjusted by setting 'spark.sql.debug.maxToStringFields'.\n"
     ]
    },
    {
     "name": "stdout",
     "output_type": "stream",
     "text": [
      "+--------+-----------+----------+-----------+\n",
      "|iso_code|   location|population|total_cases|\n",
      "+--------+-----------+----------+-----------+\n",
      "|     AFG|Afghanistan|38928341.0|        1.0|\n",
      "|     AFG|Afghanistan|38928341.0|        1.0|\n",
      "|     AFG|Afghanistan|38928341.0|        1.0|\n",
      "+--------+-----------+----------+-----------+\n",
      "only showing top 3 rows\n",
      "\n"
     ]
    }
   ],
   "source": [
    "df = spark.read.format('csv').option('header', 'true').load(\"owid-covid-data.csv\")\n",
    "df.select(\"iso_code\", 'location', 'population', 'total_cases').show(3)\n",
    "\n"
   ]
  },
  {
   "cell_type": "code",
   "execution_count": 4,
   "metadata": {},
   "outputs": [
    {
     "name": "stderr",
     "output_type": "stream",
     "text": [
      "[Stage 3:=====================================================> (194 + 5) / 200]\r"
     ]
    },
    {
     "name": "stdout",
     "output_type": "stream",
     "text": [
      "+--------+-------------+--------------+---------------+------------------+\n",
      "|iso_code|     location|sum(new_cases)|max(population)|           percent|\n",
      "+--------+-------------+--------------+---------------+------------------+\n",
      "|     AND|      Andorra|       12771.0|        77265.0|16.528829353523587|\n",
      "|     MNE|   Montenegro|       95377.0|       628062.0|15.185921135174551|\n",
      "|     CZE|      Czechia|     1600341.0|     10708982.0|  14.9439134364032|\n",
      "|     SMR|   San Marino|        5026.0|        33938.0|14.809358241499204|\n",
      "|     SVN|     Slovenia|      231593.0|      2078932.0|11.139998807079788|\n",
      "|     LUX|   Luxembourg|       64746.0|       625976.0|10.343208046314874|\n",
      "|     SRB|       Serbia|      660299.0|      6804596.0| 9.703720838092373|\n",
      "|     ISR|       Israel|      836883.0|      8655541.0| 9.668754385196719|\n",
      "|     BHR|      Bahrain|      163113.0|      1701583.0| 9.585956136139112|\n",
      "|     USA|United States|   3.1628012E7|    331002647.0| 9.555214221595032|\n",
      "|     SWE|       Sweden|      900138.0|     10099270.0| 8.912901625563036|\n",
      "|     EST|      Estonia|      117011.0|      1326539.0| 8.820773456340145|\n",
      "|     LTU|    Lithuania|      232829.0|      2722291.0| 8.552685954587515|\n",
      "|     PAN|       Panama|      360597.0|      4314768.0| 8.357274365620585|\n",
      "|     NLD|  Netherlands|     1419871.0|     17134873.0|  8.28644017379061|\n",
      "+--------+-------------+--------------+---------------+------------------+\n",
      "only showing top 15 rows\n",
      "\n"
     ]
    },
    {
     "name": "stderr",
     "output_type": "stream",
     "text": [
      "                                                                                \r"
     ]
    }
   ],
   "source": [
    "# df.schema.json()\n",
    "# 15 стран с наибольшим процентом переболевших на 31 марта\n",
    "res_df = df.select(\"iso_code\", 'location', 'population', 'new_cases', 'date')\\\n",
    ".filter(F.col(\"date\") <= '2022-03-31' ).groupBy(['iso_code', 'location']).agg({'population': 'max', 'new_cases' : 'sum'})\n",
    "res_df = res_df.withColumn('percent', F.col(\"sum(new_cases)\") / F.col(\"max(population)\") * 100)\n",
    "res_df.sort('percent', ascending = False).show(15)"
   ]
  },
  {
   "cell_type": "code",
   "execution_count": 27,
   "metadata": {},
   "outputs": [
    {
     "name": "stderr",
     "output_type": "stream",
     "text": [
      "[Stage 101:==========================================>          (159 + 6) / 200]\r"
     ]
    },
    {
     "name": "stdout",
     "output_type": "stream",
     "text": [
      "+--------+-------------+----------+--------------+\n",
      "|iso_code|     location|      date|max(new_cases)|\n",
      "+--------+-------------+----------+--------------+\n",
      "|     BRA|       Brazil|2021-03-31|         90638|\n",
      "|     IND|        India|2021-03-31|         72330|\n",
      "|     USA|United States|2021-03-29|         69429|\n",
      "|     FRA|       France|2021-03-31|         59054|\n",
      "|     TUR|       Turkey|2021-03-31|         39302|\n",
      "|     POL|       Poland|2021-03-31|         32891|\n",
      "|     DEU|      Germany|2021-03-31|         25014|\n",
      "|     ITA|        Italy|2021-03-31|         23887|\n",
      "|     SWE|       Sweden|2021-03-30|         16427|\n",
      "|     ARG|    Argentina|2021-03-31|         16056|\n",
      "+--------+-------------+----------+--------------+\n",
      "only showing top 10 rows\n",
      "\n"
     ]
    },
    {
     "name": "stderr",
     "output_type": "stream",
     "text": [
      "                                                                                \r"
     ]
    }
   ],
   "source": [
    "# 10 стран с максимальным зафиксированным кол-вом новых случаев за последнюю неделю марта 2021 в отсортированном порядке по убыванию\n",
    "res_df = df.select(\"iso_code\", 'new_cases', 'location','date')\\\n",
    ".filter(F.col(\"date\") <= '2021-03-31' )\\\n",
    "    .filter(F.col(\"date\") >= '2021-03-28' )\\\n",
    "        .filter(~F.col('iso_code').like('OWID_%') )\\\n",
    "            .groupBy(['iso_code', 'location',  'date'] ).agg({'new_cases' : 'max'})\n",
    "# res_df = res_df.withColumn('percent', F.col(\"sum(total_cases)\") / F.col(\"max(population)\") )\n",
    "res_df2 = res_df.withColumn(\"max(new_cases)\", res_df[\"max(new_cases)\"].cast(IntegerType())).sort('max(new_cases)', ascending = False)\n",
    "res_df2.drop_duplicates(subset=['iso_code']).sort('max(new_cases)', ascending = False).show(10)\n",
    "\n"
   ]
  },
  {
   "cell_type": "code",
   "execution_count": 23,
   "metadata": {},
   "outputs": [
    {
     "name": "stderr",
     "output_type": "stream",
     "text": [
      "22/08/07 20:59:46 WARN WindowExec: No Partition Defined for Window operation! Moving all data to a single partition, this can cause serious performance degradation.\n"
     ]
    },
    {
     "name": "stdout",
     "output_type": "stream",
     "text": [
      "+--------+---------+----------+---------------+----------+\n",
      "|iso_code|new_cases|      date|yesterday_cases|diff_cases|\n",
      "+--------+---------+----------+---------------+----------+\n",
      "|     RUS|   8589.0|2021-03-29|         8979.0|    -390.0|\n",
      "|     RUS|   8162.0|2021-03-30|         8589.0|    -427.0|\n",
      "|     RUS|   8156.0|2021-03-31|         8162.0|      -6.0|\n",
      "+--------+---------+----------+---------------+----------+\n",
      "\n"
     ]
    }
   ],
   "source": [
    "res_rus = df.filter(F.col('iso_code') == 'RUS').filter(F.col(\"date\") <= '2021-03-31' )\\\n",
    "    .filter(F.col(\"date\") >= '2021-03-28' ).select(\"iso_code\", 'new_cases', 'date')\n",
    "w = W.orderBy('date')\n",
    "res_rus = res_rus.withColumn('yesterday_cases', F.lag('new_cases', 1).over(w))\n",
    "res_rus = res_rus.withColumn('diff_cases', F.col('new_cases') - F.col('yesterday_cases') )\n",
    "res_rus.filter(F.col('diff_cases').isNotNull()).show()\n"
   ]
  },
  {
   "cell_type": "code",
   "execution_count": 22,
   "metadata": {},
   "outputs": [
    {
     "name": "stderr",
     "output_type": "stream",
     "text": [
      "22/08/07 20:59:36 WARN WindowExec: No Partition Defined for Window operation! Moving all data to a single partition, this can cause serious performance degradation.\n"
     ]
    },
    {
     "name": "stdout",
     "output_type": "stream",
     "text": [
      "+--------+---------+----------+---------------+----------+\n",
      "|iso_code|new_cases|      date|yesterday_cases|diff_cases|\n",
      "+--------+---------+----------+---------------+----------+\n",
      "|     RUS|   8589.0|2021-03-29|         8979.0|    -390.0|\n",
      "|     RUS|   8162.0|2021-03-30|         8589.0|    -427.0|\n",
      "|     RUS|   8156.0|2021-03-31|         8162.0|      -6.0|\n",
      "+--------+---------+----------+---------------+----------+\n",
      "\n"
     ]
    }
   ],
   "source": []
  },
  {
   "cell_type": "code",
   "execution_count": null,
   "metadata": {},
   "outputs": [],
   "source": []
  }
 ],
 "metadata": {
  "interpreter": {
   "hash": "1ec615834a929f8f6354de4f8ec96d7c019114e8d9f7812a39bf7f16da3f4860"
  },
  "kernelspec": {
   "display_name": "Python 3.9.7 ('base')",
   "language": "python",
   "name": "python3"
  },
  "language_info": {
   "codemirror_mode": {
    "name": "ipython",
    "version": 3
   },
   "file_extension": ".py",
   "mimetype": "text/x-python",
   "name": "python",
   "nbconvert_exporter": "python",
   "pygments_lexer": "ipython3",
   "version": "3.9.7"
  },
  "orig_nbformat": 4
 },
 "nbformat": 4,
 "nbformat_minor": 2
}
